{
 "cells": [
  {
   "cell_type": "markdown",
   "metadata": {},
   "source": [
    "# Lesson 06: Neutron Captures\n",
    "### Dylan Temples \n",
    "June 20, 2022\n",
    "\n",
    "The goal of this lesson is to do a back-of-the-envelope calculation for Sb neutron capture for DD neutrons. Increasing levels of complexity are applied.\n",
    "\n",
    "## Learning Objectives\n",
    "Physics Topics:\n",
    "- Neutron capture\n",
    "- Interaction rate calculation\n",
    "\n",
    "Programming Topics:\n",
    "- Interpolation\n",
    "- Distributions, sampling"
   ]
  },
  {
   "cell_type": "code",
   "execution_count": null,
   "metadata": {},
   "outputs": [],
   "source": [
    "import numpy as np\n",
    "import matplotlib.pyplot as plt\n",
    "import pandas as pd"
   ]
  },
  {
   "cell_type": "markdown",
   "metadata": {},
   "source": [
    "# Rate Calculations\n",
    "One way to express the rate of some interaction occurring, is through the expression $$ \\Gamma = n \\sigma v $$ where $\\Gamma$ is the rate (interactions per unit time), $n$ is the density of particles entering the interaction volume, and $v$ is the velocity of the incident particles with respect to the target. The interaction is characterized by its cross-section $\\sigma$ that defines an effective area for the interaction to occur. You can think of it as the area in which the two particles must inhabit simultaneously for an interaction to take place. It has units of area (*e.g.*, cm$^{2}$). \n",
    "\n",
    "Alternatively, we can write this as $$ \\gamma = \\Phi \\sigma \\rho $$ where now $\\gamma$ is the rate per unit volume, $\\Phi$ is the neutron flux, and $\\rho$ is the number density of scattering targets (in our case Sb nuclei). In this case, we can multiply both sides by the volume of our target, to get $$ \\Gamma = \\Phi \\sigma N $$ where $N$ is the total number of nuclei available to interact with. We'll stick to this formalism for the work below.\n",
    "\n",
    "In this excercise, we will consider a toy model of a point source of deuterium-deuterium fusion events, creating an isotropic source of 2.45 MeV neutrons. They will be incident on a sample composed of 57% $^{121}$Sb and 43% $^{123}$Sb by number. We want to determine the final activity of the radioisotopes $^{122}$Sb and $^{124}$Sb.\n",
    "\n",
    "## Toy Geometry\n",
    "We will consider an infinitesimal point source of DD neutrons at the center of a sphere of radius 10 cm. The sphere is hollow and evacuated within this radius, and beyond that radius it is a perfect absorber of neutrons. The target is a 1 gram sphere of $^{nat}$Sb. The target is 5 cm from the source along the positive $z$ axis."
   ]
  },
  {
   "cell_type": "markdown",
   "metadata": {},
   "source": [
    "## Antimony volume and neutron flux\n",
    "### Exercise 1:\n",
    "First, we should determine what the size of our Sb target is. Given the parameters defined in the next cell, you should create three functions in the following cell: (1) `SbVolume`, which takes a mass in grams as the argument and returns the volume, in cm$^3$ of that mass if it were spherically shaped; (2) `SbRadius`, which takes the same argument, and returns the radius, in cm, of the Sb sphere; and (3) `SbCircle`, which gives the area, in cm$^2$ of a circle with that radius (this would be the cross-sectional area, i.e., the area of a circular shadow projected by a sphere by perfectly parallel light). "
   ]
  },
  {
   "cell_type": "code",
   "execution_count": null,
   "metadata": {},
   "outputs": [],
   "source": [
    "Sb_density_g_cm3 = 6.697 ## At room temperature\n",
    "Sb_f121 = 0.5721\n",
    "Sb_f123 = 0.4279"
   ]
  },
  {
   "cell_type": "code",
   "execution_count": null,
   "metadata": {},
   "outputs": [],
   "source": [
    "def SbVolume(Sb_mass_g):\n",
    "    \n",
    "    SbSphereVol_cm3 = \n",
    "    \n",
    "    return SbSphereVol_cm3\n",
    "\n",
    "def SbRadius(Sb_mass_g):\n",
    "    \n",
    "    SbSphereRad_cm = \n",
    "    \n",
    "    return SbSphereRad_cm\n",
    "\n",
    "def SbCircle(Sb_mass_g):\n",
    "    \n",
    "    SbSphereXAr_cm2 = \n",
    "    \n",
    "    return SbSphereXAr_cm2"
   ]
  },
  {
   "cell_type": "markdown",
   "metadata": {},
   "source": [
    "### Question 1: \n",
    "What is the cross-sectional area of a sphere that contains 1g of Sb? Then, do the math backwards to calculate the mass and check your answer. How close did you get? Is this an acceptable margin of error?"
   ]
  },
  {
   "cell_type": "code",
   "execution_count": null,
   "metadata": {},
   "outputs": [],
   "source": [
    "m_Sb_g = 1.0\n"
   ]
  },
  {
   "cell_type": "code",
   "execution_count": null,
   "metadata": {},
   "outputs": [],
   "source": [
    "A =    ## Area [cm^2]\n",
    "r =    ## Radius [cm]\n",
    "V =    ## Volume [cm^3]\n",
    "m =    ## Mass [g]\n",
    "print(\"Back-calculation gives:\",m,\"grams\")\n",
    "print(\"Percent error:\", 100*(m-m_Sb_g)/m_Sb_g)"
   ]
  },
  {
   "cell_type": "markdown",
   "metadata": {},
   "source": [
    "### Question 1.33:\n",
    "What is the number density (#/cm$^3$) of Sb atoms of each isotope in the sample? The molar mass of Sb is 121.76 g/mol."
   ]
  },
  {
   "cell_type": "code",
   "execution_count": null,
   "metadata": {},
   "outputs": [],
   "source": [
    "MM_Sb_g_mol = 121.76\n",
    "mol         = 6.02e23"
   ]
  },
  {
   "cell_type": "code",
   "execution_count": null,
   "metadata": {},
   "outputs": [],
   "source": [
    "## In one gram there is how many moles:\n",
    "num_mol_Mass = \n",
    "num_atom_Sb  = \n",
    "Sb_num_dens  = \n",
    "Sb121_n_dens = \n",
    "Sb123_n_dens = \n",
    "print(\"In a packed sphere of Sb weighing\", m_Sb_g, \"gram, there are\", num_atom_Sb, \"Sb atoms\")\n",
    "print(\"This is a number density of\", Sb_num_dens, \"atoms/cm^3\")\n",
    "print(\"121Sb density: \",Sb121_n_dens,\"cm^-3\")\n",
    "print(\"123Sb density: \",Sb123_n_dens,\"cm^-3\")"
   ]
  },
  {
   "cell_type": "markdown",
   "metadata": {},
   "source": [
    "### Question 1.66:\n",
    "How many nuclei of each isotope are there in our sample?"
   ]
  },
  {
   "cell_type": "code",
   "execution_count": null,
   "metadata": {},
   "outputs": [],
   "source": [
    "Sb121_N = \n",
    "Sb123_N = \n",
    "print(\"In a packed sphere of Sb weighing\", m_Sb_g, \"gram, there are\", num_atom_Sb, \"Sb atoms\")\n",
    "print(Sb121_N,\"of which are 121Sb\")\n",
    "print(Sb123_N,\"of which are 121Sb\")"
   ]
  },
  {
   "cell_type": "markdown",
   "metadata": {},
   "source": [
    "### Question 2: \n",
    "Now we want to know how many neutrons are going to hit that area per unit time. The neutrons are going out equally in every direction from the center of the aborbing sphere. If the total production rate of neutrons is known, what is the number of neutrons crossing through every square centimeter of the aborbing surface, per second? This quantity is known as the flux, $\\Phi$ and has units of cm$^{-2} \\times $sec$^{-1}$."
   ]
  },
  {
   "cell_type": "code",
   "execution_count": null,
   "metadata": {},
   "outputs": [],
   "source": [
    "r_Abs_cm = 10.0  # cm\n",
    "R_n_psec = 1e8   # neutrons / sec, isotropically"
   ]
  },
  {
   "cell_type": "code",
   "execution_count": null,
   "metadata": {},
   "outputs": [],
   "source": [
    "def TotalNeutronFlux(generation_rate_Hz, absorber_radius_cm):\n",
    "    \n",
    "    flux_cm2_sec = \n",
    "    \n",
    "    return flux_cm2_sec"
   ]
  },
  {
   "cell_type": "code",
   "execution_count": null,
   "metadata": {},
   "outputs": [],
   "source": [
    "print(\"A rate of \",R_n_psec,\"neutrons per seconds\")\n",
    "print(\"gives a total flux at the absorber of\",TotalNeutronFlux(R_n_psec,r_Abs_cm),\"n/cm^2/sec\")"
   ]
  },
  {
   "cell_type": "markdown",
   "metadata": {},
   "source": [
    "### Question 3:\n",
    "How many neutrons per second are incident on the Sb sphere? Related question: What fraction of the surface area of a sphere who's surface is at the distance of the Sb chunk does the cross-sectional area of the Sb chunk comprise?"
   ]
  },
  {
   "cell_type": "code",
   "execution_count": null,
   "metadata": {},
   "outputs": [],
   "source": [
    "## The total neutron flux at a distance of the source\n",
    "Sb_src_dist_z_cm   = 5.0     ## units = cm\n",
    "tot_n_flux_cm2_sec =  ## units = cm^-2 sec^-1\n",
    "xsec_Sb_area_cm2   =  ## units = cm^2\n",
    "n_rate_in_Sb       = \n",
    "print(\"For a spherical chunk of Sb with mass\",m_Sb_g,\"gram, the number of incident neutrons is\", n_rate_in_Sb, \"per second.\")"
   ]
  },
  {
   "cell_type": "markdown",
   "metadata": {},
   "source": [
    "## Interaction cross-sections\n",
    "Before we move on, we'll want to know what the neutron capture cross sections are for our two isotopes of interest. First, we'll have to get the data. Head over to https://www.nndc.bnl.gov/sigma/, and click \"Sb\" on the periodic table. Click on \"121\" below \"Results for Z=51\" on the right. Find the $(n,\\gamma)$ entry, and click \"Plot\". On the new page that opened, you should see a plot of cross-section vs energy. Click \"View evaluated data\", then right-click on the \"Text\" link to save the file to this directory on your computer. The default file name is `endf-6[29111].txt`. Do the same for $^{123}$Sb (filename `endf-6[33736].txt`).\n",
    "\n",
    "### Exercise 2:\n",
    "Create a function that takes in one of the filenames for the data downloaded from NNDC and recreates the plot shown on the website. However, your plot should have the axes in units of \"MeV\" and \"cm$^2$\" (rather than \"barns\" and \"eV\"). Make both those plots."
   ]
  },
  {
   "cell_type": "code",
   "execution_count": null,
   "metadata": {},
   "outputs": [],
   "source": [
    "b_to_cm2  = 1e-24 ## 1 barn = 10^-28 m^2 = 10^-24 cm^2\n",
    "eV_to_MeV = 1e-6  ## 1 eV = 10^-6 MeV"
   ]
  },
  {
   "cell_type": "code",
   "execution_count": null,
   "metadata": {},
   "outputs": [],
   "source": [
    "def MakeCrossSectionPlot(filename):\n",
    "    ## Pull the data from the fle, skipping the header\n",
    "    "
   ]
  },
  {
   "cell_type": "code",
   "execution_count": null,
   "metadata": {},
   "outputs": [],
   "source": [
    "MakeCrossSectionPlot(\"endf-6[29111].txt\")"
   ]
  },
  {
   "cell_type": "code",
   "execution_count": null,
   "metadata": {},
   "outputs": [],
   "source": [
    "MakeCrossSectionPlot(\"endf-6[33736].txt\")"
   ]
  },
  {
   "cell_type": "markdown",
   "metadata": {},
   "source": [
    "### Excercise 3:\n",
    "Use `scipy.interpolate.interp1d` to create an interpolating function for each of the files, which exist as discrete data points sampled at various energy values. This will allow us to get a single value for the cross-section at any energy we can ask for, by linearly interpolating from the values in the data on either side of the energy we requested. Create a new version of, or edit, the function above to return the interpolator object. We want the interpolator to return $\\sigma_{(n,\\gamma)}$ in cm$^2$ as a function of $E_n$ in MeV."
   ]
  },
  {
   "cell_type": "code",
   "execution_count": null,
   "metadata": {},
   "outputs": [],
   "source": [
    "from scipy.interpolate import interp1d"
   ]
  },
  {
   "cell_type": "code",
   "execution_count": null,
   "metadata": {},
   "outputs": [],
   "source": [
    "def MakeCrossSectionPlot(filename):\n",
    "     \n",
    "    \n",
    "    ## Create and return the interpolator\n",
    "    return interp_func"
   ]
  },
  {
   "cell_type": "code",
   "execution_count": null,
   "metadata": {},
   "outputs": [],
   "source": [
    "Sb121_xsec_intp = MakeCrossSectionPlot(\"endf-6[29111].txt\")"
   ]
  },
  {
   "cell_type": "code",
   "execution_count": null,
   "metadata": {},
   "outputs": [],
   "source": [
    "Sb123_xsec_intp = MakeCrossSectionPlot(\"endf-6[33736].txt\")"
   ]
  },
  {
   "cell_type": "markdown",
   "metadata": {},
   "source": [
    "### Question 4:\n",
    "What are the $(n,\\gamma)$ cross-sections (in cm$^2$) for each Sb isotope at the DD neutron energy of $E_n=2.45$ MeV?"
   ]
  },
  {
   "cell_type": "code",
   "execution_count": null,
   "metadata": {},
   "outputs": [],
   "source": [
    "print(\"For 121Sb, the neutron capture cross-section is\", ---- , \"cm^2\")\n",
    "print(\"For 123Sb, the neutron capture cross-section is\", ---- , \"cm^2\")"
   ]
  },
  {
   "cell_type": "markdown",
   "metadata": {},
   "source": [
    "You'll notice these are very small compared to the range of values shown on the plots' y-axes. This means the Sb is very unlikley to capture neutrons of this energy. It demonstrates the need to moderate these neutrons, meaning they must go through some scattering processes to reduce their kinetic energy. For now we will continue with these values."
   ]
  },
  {
   "cell_type": "markdown",
   "metadata": {},
   "source": [
    "## The neutron energy\n",
    "A particle of mass $m$ moving at a velocity $v$ has kinetic energy given by $$T=\\frac12 m v^2$$ Typically, you'd think of the mass in units of kg and the velocity in meters per second, to work in MKS units (SI). One can do a neat trick where we multiply and divide the right hand side of the above equation by $c^2$: $$ T = \\frac12 m v^2 \\left(\\frac{c^2}{c^2}\\right) = \\frac12 (mc^2) \\left( \\frac{v}{c} \\right)^2 $$. This lets us write the kinetic energy in terms of the rest mass (energy) of the particle, and its velocity relative to the speed of light: $\\beta = v/c$.\n",
    "\n",
    "### Exercise 4:\n",
    "Write a function that gives you the velocity of a neutron, as a fraction of the speed of light, with a specified kinetic energy.\n",
    "\n",
    "### Question 5:\n",
    "The neutron mass in MeV/$c^2$ is given below. What is the velocity, in terms of the speed of light, of a DD neutron with 2.45 MeV of kinetic energy?"
   ]
  },
  {
   "cell_type": "code",
   "execution_count": null,
   "metadata": {},
   "outputs": [],
   "source": [
    "M_neutron_MeV = 939.565420"
   ]
  },
  {
   "cell_type": "code",
   "execution_count": null,
   "metadata": {},
   "outputs": [],
   "source": [
    "def NeutronVelocity(E_neutron_MeV):\n",
    "    \n",
    "    beta = \n",
    "    \n",
    "    return beta"
   ]
  },
  {
   "cell_type": "code",
   "execution_count": null,
   "metadata": {},
   "outputs": [],
   "source": [
    "beta_DD = NeutronVelocity(2.45)\n",
    "print(\"The velocity of a neutron with\", 2.45, \"MeV of kinetic energy is\", 100.*beta_DD, \"% the speed of light (beta=\"+str(beta_DD)+\")\")"
   ]
  },
  {
   "cell_type": "markdown",
   "metadata": {},
   "source": [
    "## Putting it all Together\n",
    "Let's return to our rate equation: $$ \\Gamma  = \\Phi \\sigma N $$ where $\\Phi$ is the flux with dimension number per unit area per unit time, $\\sigma$ is the interaction cross-section with units of area, and $N$ is the number of target particles. Putting this all together, we see that $\\Gamma$ has dimension of number per unit time, or in other words, a rate. \n",
    "\n",
    "### Question 6:\n",
    "What is the rate of captures on $^{121}$Sb and $^{122}$Sb?"
   ]
  },
  {
   "cell_type": "code",
   "execution_count": null,
   "metadata": {},
   "outputs": [],
   "source": [
    "Sb121_cap_rate = \n",
    "Sb123_cap_rate = \n",
    "print(\"For this source and target, there are\", Sb121_cap_rate, \"122Sb activations per second\")\n",
    "print(\"For this source and target, there are\", Sb123_cap_rate, \"124Sb activations per second\")"
   ]
  },
  {
   "cell_type": "markdown",
   "metadata": {},
   "source": [
    "### Question 7:\n",
    "In one second of neutron exposure, assuming no unstable nuclei decay during the exposure, what is the final activity (in units of Becquerel) for both isotopes of interest? Note $$ A_{Bq} = n N_A \\frac{ \\log{2} }{ t_{1/2} } $$ where $n$ is the number of moles of the decaying particle that are present in the sample, $N_A$ is Avogradro's number, and $t_{1/2}$ is the half-life of the decaying species. Leading question: what is $n N_A$ equal to? (You've already calculated it) "
   ]
  },
  {
   "cell_type": "code",
   "execution_count": null,
   "metadata": {},
   "outputs": [],
   "source": [
    "tau_122Sb_sec =  2.7238 * 24. * 3600.\n",
    "tau_124Sb_sec = 60.20   * 24. * 3600."
   ]
  },
  {
   "cell_type": "code",
   "execution_count": null,
   "metadata": {},
   "outputs": [],
   "source": [
    "def Activity_Bq(N_decayers, t12_sec):\n",
    "    \n",
    "    return A_Bq"
   ]
  },
  {
   "cell_type": "code",
   "execution_count": null,
   "metadata": {},
   "outputs": [],
   "source": [
    "print(\"In a one second exposure with no decays, the final activities are\")\n",
    "print(\"122Sb:\", Activity_Bq(Sb121_cap_rate*----, tau_122Sb_sec), \"Bq\")\n",
    "print(\"124Sb:\", Activity_Bq(Sb123_cap_rate*----, tau_124Sb_sec), \"Bq\")"
   ]
  },
  {
   "cell_type": "markdown",
   "metadata": {},
   "source": [
    "### Question 8:\n",
    "If we wanted a $^{124}$Sb source with a total activity of 50 kBq, how long would we need to expose the sample to neutrons, again assuming no decays during exposure? Is this reasonable to do?"
   ]
  },
  {
   "cell_type": "code",
   "execution_count": null,
   "metadata": {},
   "outputs": [],
   "source": []
  }
 ],
 "metadata": {
  "kernelspec": {
   "display_name": "Python 3",
   "language": "python",
   "name": "python3"
  },
  "language_info": {
   "codemirror_mode": {
    "name": "ipython",
    "version": 3
   },
   "file_extension": ".py",
   "mimetype": "text/x-python",
   "name": "python",
   "nbconvert_exporter": "python",
   "pygments_lexer": "ipython3",
   "version": "3.7.4"
  }
 },
 "nbformat": 4,
 "nbformat_minor": 2
}
